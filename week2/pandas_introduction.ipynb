{
 "cells": [
  {
   "cell_type": "markdown",
   "metadata": {},
   "source": [
    "# \n",
    "# <font color='blue'>Introduction to Pandas </font>"
   ]
  },
  {
   "cell_type": "markdown",
   "metadata": {},
   "source": [
    "# \n",
    "## <font color='blue'> Here we will cover the following topics in Pandas.\n",
    "    1. Read/load data \n",
    "    2. How to select columns and rows\n",
    "    3. How to convert string/int columns to datetime columns\n",
    "    4. How to filter rows\n",
    "    "
   ]
  },
  {
   "cell_type": "markdown",
   "metadata": {},
   "source": [
    "## \n",
    "## <font color='blue'> 1. First Read the data. </font>"
   ]
  },
  {
   "cell_type": "markdown",
   "metadata": {},
   "source": [
    "We are going to use `pandas` to load the data from `github.com`. \n",
    "First you need to get the raw url for the file you want to import. \n",
    "In our case, this is the link for `states_daily_4pm_et.csv`:https://raw.githubusercontent.com/thoo/covid-tracking-data/master/data/states_daily_4pm_et.csv .\n",
    "First import the libraries we need. "
   ]
  },
  {
   "cell_type": "code",
   "execution_count": 4,
   "metadata": {},
   "outputs": [],
   "source": [
    "import pandas as pd"
   ]
  },
  {
   "cell_type": "code",
   "execution_count": 2,
   "metadata": {},
   "outputs": [],
   "source": [
    "df_daily = pd.read_csv(\n",
    "    \"https://raw.githubusercontent.com/thoo/covid-tracking-data/master/data/states_daily_4pm_et.csv\"\n",
    ")"
   ]
  },
  {
   "cell_type": "markdown",
   "metadata": {},
   "source": [
    "## \n",
    "### <font color='red'> How do you get the first 10 rows?"
   ]
  },
  {
   "cell_type": "markdown",
   "metadata": {},
   "source": [
    "#### Let look at the first 5 lines of the table. \n"
   ]
  },
  {
   "cell_type": "code",
   "execution_count": 3,
   "metadata": {},
   "outputs": [
    {
     "data": {
      "text/html": [
       "<div>\n",
       "<style scoped>\n",
       "    .dataframe tbody tr th:only-of-type {\n",
       "        vertical-align: middle;\n",
       "    }\n",
       "\n",
       "    .dataframe tbody tr th {\n",
       "        vertical-align: top;\n",
       "    }\n",
       "\n",
       "    .dataframe thead th {\n",
       "        text-align: right;\n",
       "    }\n",
       "</style>\n",
       "<table border=\"1\" class=\"dataframe\">\n",
       "  <thead>\n",
       "    <tr style=\"text-align: right;\">\n",
       "      <th></th>\n",
       "      <th>date</th>\n",
       "      <th>state</th>\n",
       "      <th>positive</th>\n",
       "      <th>negative</th>\n",
       "      <th>pending</th>\n",
       "      <th>hospitalizedCurrently</th>\n",
       "      <th>hospitalizedCumulative</th>\n",
       "      <th>inIcuCurrently</th>\n",
       "      <th>inIcuCumulative</th>\n",
       "      <th>onVentilatorCurrently</th>\n",
       "      <th>...</th>\n",
       "      <th>posNeg</th>\n",
       "      <th>deathIncrease</th>\n",
       "      <th>hospitalizedIncrease</th>\n",
       "      <th>hash</th>\n",
       "      <th>commercialScore</th>\n",
       "      <th>negativeRegularScore</th>\n",
       "      <th>negativeScore</th>\n",
       "      <th>positiveScore</th>\n",
       "      <th>score</th>\n",
       "      <th>grade</th>\n",
       "    </tr>\n",
       "  </thead>\n",
       "  <tbody>\n",
       "    <tr>\n",
       "      <th>0</th>\n",
       "      <td>20200710</td>\n",
       "      <td>AK</td>\n",
       "      <td>1323.0</td>\n",
       "      <td>140608.0</td>\n",
       "      <td>NaN</td>\n",
       "      <td>30.0</td>\n",
       "      <td>NaN</td>\n",
       "      <td>NaN</td>\n",
       "      <td>NaN</td>\n",
       "      <td>0.0</td>\n",
       "      <td>...</td>\n",
       "      <td>141931</td>\n",
       "      <td>0</td>\n",
       "      <td>0</td>\n",
       "      <td>7337a3e96732733e1dad90b6631e3e4316bba0ff</td>\n",
       "      <td>0</td>\n",
       "      <td>0</td>\n",
       "      <td>0</td>\n",
       "      <td>0</td>\n",
       "      <td>0</td>\n",
       "      <td>NaN</td>\n",
       "    </tr>\n",
       "    <tr>\n",
       "      <th>1</th>\n",
       "      <td>20200710</td>\n",
       "      <td>AL</td>\n",
       "      <td>50508.0</td>\n",
       "      <td>441708.0</td>\n",
       "      <td>NaN</td>\n",
       "      <td>1183.0</td>\n",
       "      <td>3089.0</td>\n",
       "      <td>NaN</td>\n",
       "      <td>888.0</td>\n",
       "      <td>NaN</td>\n",
       "      <td>...</td>\n",
       "      <td>492216</td>\n",
       "      <td>36</td>\n",
       "      <td>50</td>\n",
       "      <td>9e12c62a712d9f83add02bd471d6608745a2c76a</td>\n",
       "      <td>0</td>\n",
       "      <td>0</td>\n",
       "      <td>0</td>\n",
       "      <td>0</td>\n",
       "      <td>0</td>\n",
       "      <td>NaN</td>\n",
       "    </tr>\n",
       "    <tr>\n",
       "      <th>2</th>\n",
       "      <td>20200710</td>\n",
       "      <td>AR</td>\n",
       "      <td>26803.0</td>\n",
       "      <td>338609.0</td>\n",
       "      <td>NaN</td>\n",
       "      <td>402.0</td>\n",
       "      <td>1743.0</td>\n",
       "      <td>NaN</td>\n",
       "      <td>NaN</td>\n",
       "      <td>84.0</td>\n",
       "      <td>...</td>\n",
       "      <td>365412</td>\n",
       "      <td>4</td>\n",
       "      <td>38</td>\n",
       "      <td>3ebd2a7aee71250e30472d87c0a43986dfcd32aa</td>\n",
       "      <td>0</td>\n",
       "      <td>0</td>\n",
       "      <td>0</td>\n",
       "      <td>0</td>\n",
       "      <td>0</td>\n",
       "      <td>NaN</td>\n",
       "    </tr>\n",
       "    <tr>\n",
       "      <th>3</th>\n",
       "      <td>20200710</td>\n",
       "      <td>AS</td>\n",
       "      <td>0.0</td>\n",
       "      <td>816.0</td>\n",
       "      <td>NaN</td>\n",
       "      <td>NaN</td>\n",
       "      <td>NaN</td>\n",
       "      <td>NaN</td>\n",
       "      <td>NaN</td>\n",
       "      <td>NaN</td>\n",
       "      <td>...</td>\n",
       "      <td>816</td>\n",
       "      <td>0</td>\n",
       "      <td>0</td>\n",
       "      <td>004c2c497969b52749e6bc8d88e68f7e39c1818b</td>\n",
       "      <td>0</td>\n",
       "      <td>0</td>\n",
       "      <td>0</td>\n",
       "      <td>0</td>\n",
       "      <td>0</td>\n",
       "      <td>NaN</td>\n",
       "    </tr>\n",
       "    <tr>\n",
       "      <th>4</th>\n",
       "      <td>20200710</td>\n",
       "      <td>AZ</td>\n",
       "      <td>116892.0</td>\n",
       "      <td>552319.0</td>\n",
       "      <td>NaN</td>\n",
       "      <td>3432.0</td>\n",
       "      <td>5659.0</td>\n",
       "      <td>876.0</td>\n",
       "      <td>NaN</td>\n",
       "      <td>615.0</td>\n",
       "      <td>...</td>\n",
       "      <td>669211</td>\n",
       "      <td>44</td>\n",
       "      <td>133</td>\n",
       "      <td>2c23eaf50b677706200aa0be2e84a000193f759f</td>\n",
       "      <td>0</td>\n",
       "      <td>0</td>\n",
       "      <td>0</td>\n",
       "      <td>0</td>\n",
       "      <td>0</td>\n",
       "      <td>NaN</td>\n",
       "    </tr>\n",
       "  </tbody>\n",
       "</table>\n",
       "<p>5 rows × 41 columns</p>\n",
       "</div>"
      ],
      "text/plain": [
       "       date state  positive  negative  pending  hospitalizedCurrently  \\\n",
       "0  20200710    AK    1323.0  140608.0      NaN                   30.0   \n",
       "1  20200710    AL   50508.0  441708.0      NaN                 1183.0   \n",
       "2  20200710    AR   26803.0  338609.0      NaN                  402.0   \n",
       "3  20200710    AS       0.0     816.0      NaN                    NaN   \n",
       "4  20200710    AZ  116892.0  552319.0      NaN                 3432.0   \n",
       "\n",
       "   hospitalizedCumulative  inIcuCurrently  inIcuCumulative  \\\n",
       "0                     NaN             NaN              NaN   \n",
       "1                  3089.0             NaN            888.0   \n",
       "2                  1743.0             NaN              NaN   \n",
       "3                     NaN             NaN              NaN   \n",
       "4                  5659.0           876.0              NaN   \n",
       "\n",
       "   onVentilatorCurrently  ...  posNeg  deathIncrease hospitalizedIncrease  \\\n",
       "0                    0.0  ...  141931              0                    0   \n",
       "1                    NaN  ...  492216             36                   50   \n",
       "2                   84.0  ...  365412              4                   38   \n",
       "3                    NaN  ...     816              0                    0   \n",
       "4                  615.0  ...  669211             44                  133   \n",
       "\n",
       "                                       hash commercialScore  \\\n",
       "0  7337a3e96732733e1dad90b6631e3e4316bba0ff               0   \n",
       "1  9e12c62a712d9f83add02bd471d6608745a2c76a               0   \n",
       "2  3ebd2a7aee71250e30472d87c0a43986dfcd32aa               0   \n",
       "3  004c2c497969b52749e6bc8d88e68f7e39c1818b               0   \n",
       "4  2c23eaf50b677706200aa0be2e84a000193f759f               0   \n",
       "\n",
       "  negativeRegularScore  negativeScore  positiveScore score  grade  \n",
       "0                    0              0              0     0    NaN  \n",
       "1                    0              0              0     0    NaN  \n",
       "2                    0              0              0     0    NaN  \n",
       "3                    0              0              0     0    NaN  \n",
       "4                    0              0              0     0    NaN  \n",
       "\n",
       "[5 rows x 41 columns]"
      ]
     },
     "execution_count": 3,
     "metadata": {},
     "output_type": "execute_result"
    }
   ],
   "source": [
    "df_daily.head()"
   ]
  },
  {
   "cell_type": "markdown",
   "metadata": {},
   "source": [
    "####  \n",
    "#### <font color='red'> How do you get the first 10 rows? \n",
    "#### <font color='red'> How do you get the tail instead of head?\n",
    "#### <font color='red'> Can you also load another cvs data from github raw url?\n"
   ]
  },
  {
   "cell_type": "markdown",
   "metadata": {},
   "source": [
    "## \n",
    "## <font color='blue'> Check dataframe info, data type and etc. "
   ]
  },
  {
   "cell_type": "code",
   "execution_count": 6,
   "metadata": {},
   "outputs": [
    {
     "name": "stdout",
     "output_type": "stream",
     "text": [
      "<class 'pandas.core.frame.DataFrame'>\n",
      "RangeIndex: 7129 entries, 0 to 7128\n",
      "Data columns (total 41 columns):\n",
      " #   Column                    Non-Null Count  Dtype  \n",
      "---  ------                    --------------  -----  \n",
      " 0   date                      7129 non-null   int64  \n",
      " 1   state                     7129 non-null   object \n",
      " 2   positive                  7114 non-null   float64\n",
      " 3   negative                  6973 non-null   float64\n",
      " 4   pending                   986 non-null    float64\n",
      " 5   hospitalizedCurrently     4506 non-null   float64\n",
      " 6   hospitalizedCumulative    3668 non-null   float64\n",
      " 7   inIcuCurrently            2318 non-null   float64\n",
      " 8   inIcuCumulative           972 non-null    float64\n",
      " 9   onVentilatorCurrently     2029 non-null   float64\n",
      " 10  onVentilatorCumulative    342 non-null    float64\n",
      " 11  recovered                 4118 non-null   float64\n",
      " 12  dataQualityGrade          6028 non-null   object \n",
      " 13  lastUpdateEt              6785 non-null   object \n",
      " 14  dateModified              6785 non-null   object \n",
      " 15  checkTimeEt               6785 non-null   object \n",
      " 16  death                     6431 non-null   float64\n",
      " 17  hospitalized              3668 non-null   float64\n",
      " 18  dateChecked               6785 non-null   object \n",
      " 19  totalTestsViral           2185 non-null   float64\n",
      " 20  positiveTestsViral        822 non-null    float64\n",
      " 21  negativeTestsViral        834 non-null    float64\n",
      " 22  positiveCasesViral        3725 non-null   float64\n",
      " 23  deathConfirmed            2040 non-null   float64\n",
      " 24  deathProbable             1233 non-null   float64\n",
      " 25  fips                      7129 non-null   int64  \n",
      " 26  positiveIncrease          7129 non-null   int64  \n",
      " 27  negativeIncrease          7129 non-null   int64  \n",
      " 28  total                     7129 non-null   int64  \n",
      " 29  totalTestResults          7129 non-null   int64  \n",
      " 30  totalTestResultsIncrease  7129 non-null   int64  \n",
      " 31  posNeg                    7129 non-null   int64  \n",
      " 32  deathIncrease             7129 non-null   int64  \n",
      " 33  hospitalizedIncrease      7129 non-null   int64  \n",
      " 34  hash                      7129 non-null   object \n",
      " 35  commercialScore           7129 non-null   int64  \n",
      " 36  negativeRegularScore      7129 non-null   int64  \n",
      " 37  negativeScore             7129 non-null   int64  \n",
      " 38  positiveScore             7129 non-null   int64  \n",
      " 39  score                     7129 non-null   int64  \n",
      " 40  grade                     0 non-null      float64\n",
      "dtypes: float64(19), int64(15), object(7)\n",
      "memory usage: 2.2+ MB\n"
     ]
    }
   ],
   "source": [
    "df_daily.info()"
   ]
  },
  {
   "cell_type": "markdown",
   "metadata": {},
   "source": [
    "This is the helper function to get the columns if you know the name of the columns **partially**."
   ]
  },
  {
   "cell_type": "markdown",
   "metadata": {},
   "source": [
    "# \n",
    "### To list all columns' name "
   ]
  },
  {
   "cell_type": "code",
   "execution_count": 75,
   "metadata": {},
   "outputs": [
    {
     "data": {
      "text/plain": [
       "['date',\n",
       " 'state',\n",
       " 'positive',\n",
       " 'negative',\n",
       " 'pending',\n",
       " 'hospitalizedCurrently',\n",
       " 'hospitalizedCumulative',\n",
       " 'inIcuCurrently',\n",
       " 'inIcuCumulative',\n",
       " 'onVentilatorCurrently',\n",
       " 'onVentilatorCumulative',\n",
       " 'recovered',\n",
       " 'dataQualityGrade',\n",
       " 'lastUpdateEt',\n",
       " 'dateModified',\n",
       " 'checkTimeEt',\n",
       " 'death',\n",
       " 'hospitalized',\n",
       " 'dateChecked',\n",
       " 'totalTestsViral',\n",
       " 'positiveTestsViral',\n",
       " 'negativeTestsViral',\n",
       " 'positiveCasesViral',\n",
       " 'deathConfirmed',\n",
       " 'deathProbable',\n",
       " 'fips',\n",
       " 'positiveIncrease',\n",
       " 'negativeIncrease',\n",
       " 'total',\n",
       " 'totalTestResults',\n",
       " 'totalTestResultsIncrease',\n",
       " 'posNeg',\n",
       " 'deathIncrease',\n",
       " 'hospitalizedIncrease',\n",
       " 'hash',\n",
       " 'commercialScore',\n",
       " 'negativeRegularScore',\n",
       " 'negativeScore',\n",
       " 'positiveScore',\n",
       " 'score',\n",
       " 'grade']"
      ]
     },
     "execution_count": 75,
     "metadata": {},
     "output_type": "execute_result"
    }
   ],
   "source": [
    "df_daily.columns.tolist()"
   ]
  },
  {
   "cell_type": "code",
   "execution_count": 31,
   "metadata": {},
   "outputs": [],
   "source": [
    "def getcols(name, df):\n",
    "\n",
    "    \"\"\"\n",
    "    Return a list of columns partially matched to the give name.\n",
    "    \n",
    "    Parameters\n",
    "    ----------\n",
    "    name : str\n",
    "    df : DataFrame\n",
    "    \n",
    "    Returns\n",
    "    -------\n",
    "    list\n",
    "        The list of the name of columns which are partially matched.\n",
    "        \n",
    "    Examples\n",
    "    --------\n",
    "    >>> getcols('date',df)\n",
    "    ['admitdate','dischargedate']\n",
    "    \n",
    "    \"\"\"\n",
    "\n",
    "    return [col for col in df.columns if name in col]"
   ]
  },
  {
   "cell_type": "markdown",
   "metadata": {},
   "source": [
    "#### Check the info about the function."
   ]
  },
  {
   "cell_type": "code",
   "execution_count": 32,
   "metadata": {},
   "outputs": [
    {
     "name": "stdout",
     "output_type": "stream",
     "text": [
      "Help on function getcols in module __main__:\n",
      "\n",
      "getcols(name, df)\n",
      "    Return a list of columns partially matched to the give name.\n",
      "    \n",
      "    Parameters\n",
      "    ----------\n",
      "    name : str\n",
      "    df : DataFrame\n",
      "    \n",
      "    Returns\n",
      "    -------\n",
      "    list\n",
      "        The list of the name of columns which are partially matched.\n",
      "        \n",
      "    Examples\n",
      "    --------\n",
      "    >>> getcols('date',df)\n",
      "    ['admitdate','dischargedate']\n",
      "\n"
     ]
    }
   ],
   "source": [
    "help(getcols)"
   ]
  },
  {
   "cell_type": "markdown",
   "metadata": {},
   "source": [
    "#### Or check any python function."
   ]
  },
  {
   "cell_type": "code",
   "execution_count": 33,
   "metadata": {},
   "outputs": [
    {
     "name": "stdout",
     "output_type": "stream",
     "text": [
      "Help on function head in module pandas.core.generic:\n",
      "\n",
      "head(self: ~FrameOrSeries, n: int = 5) -> ~FrameOrSeries\n",
      "    Return the first `n` rows.\n",
      "    \n",
      "    This function returns the first `n` rows for the object based\n",
      "    on position. It is useful for quickly testing if your object\n",
      "    has the right type of data in it.\n",
      "    \n",
      "    For negative values of `n`, this function returns all rows except\n",
      "    the last `n` rows, equivalent to ``df[:-n]``.\n",
      "    \n",
      "    Parameters\n",
      "    ----------\n",
      "    n : int, default 5\n",
      "        Number of rows to select.\n",
      "    \n",
      "    Returns\n",
      "    -------\n",
      "    same type as caller\n",
      "        The first `n` rows of the caller object.\n",
      "    \n",
      "    See Also\n",
      "    --------\n",
      "    DataFrame.tail: Returns the last `n` rows.\n",
      "    \n",
      "    Examples\n",
      "    --------\n",
      "    >>> df = pd.DataFrame({'animal': ['alligator', 'bee', 'falcon', 'lion',\n",
      "    ...                    'monkey', 'parrot', 'shark', 'whale', 'zebra']})\n",
      "    >>> df\n",
      "          animal\n",
      "    0  alligator\n",
      "    1        bee\n",
      "    2     falcon\n",
      "    3       lion\n",
      "    4     monkey\n",
      "    5     parrot\n",
      "    6      shark\n",
      "    7      whale\n",
      "    8      zebra\n",
      "    \n",
      "    Viewing the first 5 lines\n",
      "    \n",
      "    >>> df.head()\n",
      "          animal\n",
      "    0  alligator\n",
      "    1        bee\n",
      "    2     falcon\n",
      "    3       lion\n",
      "    4     monkey\n",
      "    \n",
      "    Viewing the first `n` lines (three in this case)\n",
      "    \n",
      "    >>> df.head(3)\n",
      "          animal\n",
      "    0  alligator\n",
      "    1        bee\n",
      "    2     falcon\n",
      "    \n",
      "    For negative values of `n`\n",
      "    \n",
      "    >>> df.head(-3)\n",
      "          animal\n",
      "    0  alligator\n",
      "    1        bee\n",
      "    2     falcon\n",
      "    3       lion\n",
      "    4     monkey\n",
      "    5     parrot\n",
      "\n"
     ]
    }
   ],
   "source": [
    "help(pd.DataFrame.head)"
   ]
  },
  {
   "cell_type": "markdown",
   "metadata": {},
   "source": [
    "## \n",
    "## <font color='blue'> Let check the datetime columns using `getcols` helper function."
   ]
  },
  {
   "cell_type": "code",
   "execution_count": 34,
   "metadata": {},
   "outputs": [
    {
     "data": {
      "text/plain": [
       "['date', 'lastUpdateEt', 'dateModified', 'dateChecked']"
      ]
     },
     "execution_count": 34,
     "metadata": {},
     "output_type": "execute_result"
    }
   ],
   "source": [
    "getcols(\"date\", df_daily)"
   ]
  },
  {
   "cell_type": "markdown",
   "metadata": {},
   "source": [
    "## \n",
    "## <font color='blue'> 2. Now let find out how we can select columns in Pandas"
   ]
  },
  {
   "cell_type": "markdown",
   "metadata": {},
   "source": [
    "### By column names"
   ]
  },
  {
   "cell_type": "code",
   "execution_count": 37,
   "metadata": {},
   "outputs": [
    {
     "data": {
      "text/html": [
       "<div>\n",
       "<style scoped>\n",
       "    .dataframe tbody tr th:only-of-type {\n",
       "        vertical-align: middle;\n",
       "    }\n",
       "\n",
       "    .dataframe tbody tr th {\n",
       "        vertical-align: top;\n",
       "    }\n",
       "\n",
       "    .dataframe thead th {\n",
       "        text-align: right;\n",
       "    }\n",
       "</style>\n",
       "<table border=\"1\" class=\"dataframe\">\n",
       "  <thead>\n",
       "    <tr style=\"text-align: right;\">\n",
       "      <th></th>\n",
       "      <th>date</th>\n",
       "      <th>lastUpdateEt</th>\n",
       "      <th>dateModified</th>\n",
       "    </tr>\n",
       "  </thead>\n",
       "  <tbody>\n",
       "    <tr>\n",
       "      <th>0</th>\n",
       "      <td>20200710</td>\n",
       "      <td>7/10/2020 00:00</td>\n",
       "      <td>2020-07-10T00:00:00Z</td>\n",
       "    </tr>\n",
       "    <tr>\n",
       "      <th>1</th>\n",
       "      <td>20200710</td>\n",
       "      <td>7/10/2020 11:00</td>\n",
       "      <td>2020-07-10T11:00:00Z</td>\n",
       "    </tr>\n",
       "    <tr>\n",
       "      <th>2</th>\n",
       "      <td>20200710</td>\n",
       "      <td>7/10/2020 14:46</td>\n",
       "      <td>2020-07-10T14:46:00Z</td>\n",
       "    </tr>\n",
       "    <tr>\n",
       "      <th>3</th>\n",
       "      <td>20200710</td>\n",
       "      <td>7/1/2020 00:00</td>\n",
       "      <td>2020-07-01T00:00:00Z</td>\n",
       "    </tr>\n",
       "    <tr>\n",
       "      <th>4</th>\n",
       "      <td>20200710</td>\n",
       "      <td>7/10/2020 00:00</td>\n",
       "      <td>2020-07-10T00:00:00Z</td>\n",
       "    </tr>\n",
       "  </tbody>\n",
       "</table>\n",
       "</div>"
      ],
      "text/plain": [
       "       date     lastUpdateEt          dateModified\n",
       "0  20200710  7/10/2020 00:00  2020-07-10T00:00:00Z\n",
       "1  20200710  7/10/2020 11:00  2020-07-10T11:00:00Z\n",
       "2  20200710  7/10/2020 14:46  2020-07-10T14:46:00Z\n",
       "3  20200710   7/1/2020 00:00  2020-07-01T00:00:00Z\n",
       "4  20200710  7/10/2020 00:00  2020-07-10T00:00:00Z"
      ]
     },
     "execution_count": 37,
     "metadata": {},
     "output_type": "execute_result"
    }
   ],
   "source": [
    "df_daily[[\"date\", \"lastUpdateEt\", \"dateModified\"]].head()"
   ]
  },
  {
   "cell_type": "markdown",
   "metadata": {},
   "source": [
    "### You can also use `.iloc` where 'i' means 'index' and `loc`. The format is `data.(i)loc[row,col]`."
   ]
  },
  {
   "cell_type": "code",
   "execution_count": 47,
   "metadata": {},
   "outputs": [
    {
     "data": {
      "text/html": [
       "<div>\n",
       "<style scoped>\n",
       "    .dataframe tbody tr th:only-of-type {\n",
       "        vertical-align: middle;\n",
       "    }\n",
       "\n",
       "    .dataframe tbody tr th {\n",
       "        vertical-align: top;\n",
       "    }\n",
       "\n",
       "    .dataframe thead th {\n",
       "        text-align: right;\n",
       "    }\n",
       "</style>\n",
       "<table border=\"1\" class=\"dataframe\">\n",
       "  <thead>\n",
       "    <tr style=\"text-align: right;\">\n",
       "      <th></th>\n",
       "      <th>date</th>\n",
       "      <th>positive</th>\n",
       "      <th>state</th>\n",
       "    </tr>\n",
       "  </thead>\n",
       "  <tbody>\n",
       "    <tr>\n",
       "      <th>0</th>\n",
       "      <td>20200710</td>\n",
       "      <td>1323.0</td>\n",
       "      <td>AK</td>\n",
       "    </tr>\n",
       "    <tr>\n",
       "      <th>1</th>\n",
       "      <td>20200710</td>\n",
       "      <td>50508.0</td>\n",
       "      <td>AL</td>\n",
       "    </tr>\n",
       "    <tr>\n",
       "      <th>2</th>\n",
       "      <td>20200710</td>\n",
       "      <td>26803.0</td>\n",
       "      <td>AR</td>\n",
       "    </tr>\n",
       "  </tbody>\n",
       "</table>\n",
       "</div>"
      ],
      "text/plain": [
       "       date  positive state\n",
       "0  20200710    1323.0    AK\n",
       "1  20200710   50508.0    AL\n",
       "2  20200710   26803.0    AR"
      ]
     },
     "execution_count": 47,
     "metadata": {},
     "output_type": "execute_result"
    }
   ],
   "source": [
    "df_daily.loc[0:2, [\"date\", \"positive\", \"state\"]]"
   ]
  },
  {
   "cell_type": "code",
   "execution_count": 51,
   "metadata": {},
   "outputs": [
    {
     "name": "stdout",
     "output_type": "stream",
     "text": [
      "     state\n",
      "0       AK\n",
      "1       AL\n",
      "2       AR\n",
      "3       AS\n",
      "4       AZ\n",
      "...    ...\n",
      "7124    WA\n",
      "7125    WA\n",
      "7126    WA\n",
      "7127    WA\n",
      "7128    WA\n",
      "\n",
      "[7129 rows x 1 columns]\n",
      "     state  positive\n",
      "0       AK    1323.0\n",
      "1       AL   50508.0\n",
      "2       AR   26803.0\n",
      "3       AS       0.0\n",
      "4       AZ  116892.0\n",
      "...    ...       ...\n",
      "7124    WA       2.0\n",
      "7125    WA       2.0\n",
      "7126    WA       2.0\n",
      "7127    WA       2.0\n",
      "7128    WA       2.0\n",
      "\n",
      "[7129 rows x 2 columns]\n"
     ]
    }
   ],
   "source": [
    "# to select all row\n",
    "print(df_daily.loc[:, [\"state\"]])\n",
    "print(df_daily[[\"state\", \"positive\"]])"
   ]
  },
  {
   "cell_type": "markdown",
   "metadata": {},
   "source": [
    "### Using `.iloc`"
   ]
  },
  {
   "cell_type": "code",
   "execution_count": 54,
   "metadata": {},
   "outputs": [
    {
     "name": "stdout",
     "output_type": "stream",
     "text": [
      "       date state  positive\n",
      "4  20200710    AZ  116892.0\n",
      "5  20200710    CA  304297.0\n",
      "6  20200710    CO   35525.0\n"
     ]
    }
   ],
   "source": [
    "print(df_daily.iloc[4:7, 0:3])  # three rows and three columns"
   ]
  },
  {
   "cell_type": "markdown",
   "metadata": {},
   "source": [
    "# \n",
    "## <font color='blue'> 3. Convert to datatime"
   ]
  },
  {
   "cell_type": "code",
   "execution_count": 38,
   "metadata": {},
   "outputs": [
    {
     "name": "stdout",
     "output_type": "stream",
     "text": [
      "<class 'pandas.core.frame.DataFrame'>\n",
      "RangeIndex: 7129 entries, 0 to 7128\n",
      "Data columns (total 3 columns):\n",
      " #   Column        Non-Null Count  Dtype \n",
      "---  ------        --------------  ----- \n",
      " 0   date          7129 non-null   int64 \n",
      " 1   lastUpdateEt  6785 non-null   object\n",
      " 2   dateModified  6785 non-null   object\n",
      "dtypes: int64(1), object(2)\n",
      "memory usage: 167.2+ KB\n"
     ]
    }
   ],
   "source": [
    "df_daily[[\"date\", \"lastUpdateEt\", \"dateModified\"]].info()"
   ]
  },
  {
   "cell_type": "code",
   "execution_count": 55,
   "metadata": {},
   "outputs": [
    {
     "data": {
      "text/html": [
       "<div>\n",
       "<style scoped>\n",
       "    .dataframe tbody tr th:only-of-type {\n",
       "        vertical-align: middle;\n",
       "    }\n",
       "\n",
       "    .dataframe tbody tr th {\n",
       "        vertical-align: top;\n",
       "    }\n",
       "\n",
       "    .dataframe thead th {\n",
       "        text-align: right;\n",
       "    }\n",
       "</style>\n",
       "<table border=\"1\" class=\"dataframe\">\n",
       "  <thead>\n",
       "    <tr style=\"text-align: right;\">\n",
       "      <th></th>\n",
       "      <th>date</th>\n",
       "      <th>lastUpdateEt</th>\n",
       "      <th>dateModified</th>\n",
       "    </tr>\n",
       "  </thead>\n",
       "  <tbody>\n",
       "    <tr>\n",
       "      <th>0</th>\n",
       "      <td>20200710</td>\n",
       "      <td>7/10/2020 00:00</td>\n",
       "      <td>2020-07-10T00:00:00Z</td>\n",
       "    </tr>\n",
       "    <tr>\n",
       "      <th>1</th>\n",
       "      <td>20200710</td>\n",
       "      <td>7/10/2020 11:00</td>\n",
       "      <td>2020-07-10T11:00:00Z</td>\n",
       "    </tr>\n",
       "    <tr>\n",
       "      <th>2</th>\n",
       "      <td>20200710</td>\n",
       "      <td>7/10/2020 14:46</td>\n",
       "      <td>2020-07-10T14:46:00Z</td>\n",
       "    </tr>\n",
       "    <tr>\n",
       "      <th>3</th>\n",
       "      <td>20200710</td>\n",
       "      <td>7/1/2020 00:00</td>\n",
       "      <td>2020-07-01T00:00:00Z</td>\n",
       "    </tr>\n",
       "    <tr>\n",
       "      <th>4</th>\n",
       "      <td>20200710</td>\n",
       "      <td>7/10/2020 00:00</td>\n",
       "      <td>2020-07-10T00:00:00Z</td>\n",
       "    </tr>\n",
       "  </tbody>\n",
       "</table>\n",
       "</div>"
      ],
      "text/plain": [
       "       date     lastUpdateEt          dateModified\n",
       "0  20200710  7/10/2020 00:00  2020-07-10T00:00:00Z\n",
       "1  20200710  7/10/2020 11:00  2020-07-10T11:00:00Z\n",
       "2  20200710  7/10/2020 14:46  2020-07-10T14:46:00Z\n",
       "3  20200710   7/1/2020 00:00  2020-07-01T00:00:00Z\n",
       "4  20200710  7/10/2020 00:00  2020-07-10T00:00:00Z"
      ]
     },
     "execution_count": 55,
     "metadata": {},
     "output_type": "execute_result"
    }
   ],
   "source": [
    "df_daily[[\"date\", \"lastUpdateEt\", \"dateModified\"]].head()"
   ]
  },
  {
   "cell_type": "markdown",
   "metadata": {},
   "source": [
    "## \n",
    "#### <font color='green'> Now you can see they are in the wrong format. We are expecting them in `datetime64[ns]` format. We will use `pd.to_datetime` function."
   ]
  },
  {
   "cell_type": "code",
   "execution_count": 66,
   "metadata": {},
   "outputs": [
    {
     "data": {
      "text/plain": [
       "0      2020-07-10 00:00:00+00:00\n",
       "1      2020-07-10 11:00:00+00:00\n",
       "2      2020-07-10 14:46:00+00:00\n",
       "3      2020-07-01 00:00:00+00:00\n",
       "4      2020-07-10 00:00:00+00:00\n",
       "                  ...           \n",
       "7124                         NaT\n",
       "7125                         NaT\n",
       "7126                         NaT\n",
       "7127                         NaT\n",
       "7128                         NaT\n",
       "Name: dateModified, Length: 7129, dtype: datetime64[ns, UTC]"
      ]
     },
     "execution_count": 66,
     "metadata": {},
     "output_type": "execute_result"
    }
   ],
   "source": [
    "pd.to_datetime(df_daily.loc[:, \"dateModified\"])"
   ]
  },
  {
   "cell_type": "code",
   "execution_count": 67,
   "metadata": {},
   "outputs": [
    {
     "data": {
      "text/plain": [
       "0      1970-01-01 00:00:00.020200710\n",
       "1      1970-01-01 00:00:00.020200710\n",
       "2      1970-01-01 00:00:00.020200710\n",
       "3      1970-01-01 00:00:00.020200710\n",
       "4      1970-01-01 00:00:00.020200710\n",
       "                    ...             \n",
       "7124   1970-01-01 00:00:00.020200126\n",
       "7125   1970-01-01 00:00:00.020200125\n",
       "7126   1970-01-01 00:00:00.020200124\n",
       "7127   1970-01-01 00:00:00.020200123\n",
       "7128   1970-01-01 00:00:00.020200122\n",
       "Name: date, Length: 7129, dtype: datetime64[ns]"
      ]
     },
     "execution_count": 67,
     "metadata": {},
     "output_type": "execute_result"
    }
   ],
   "source": [
    "pd.to_datetime(df_daily[\"date\"])"
   ]
  },
  {
   "cell_type": "markdown",
   "metadata": {},
   "source": [
    "# \n",
    "### <font color='green'> Or we can do this process when we read the data to pandas dataframe.\n",
    "### <font color='red'> Use `parse_dates` argument in `pd.read_csv`. You might want to look up the usage by typing `help(pd.read_csv)`."
   ]
  },
  {
   "cell_type": "code",
   "execution_count": 71,
   "metadata": {},
   "outputs": [],
   "source": [
    "df_daily = pd.read_csv(\n",
    "    \"https://raw.githubusercontent.com/thoo/covid-tracking-data/master/data/states_daily_4pm_et.csv\",\n",
    "    parse_dates=xxxx,\n",
    ")"
   ]
  },
  {
   "cell_type": "code",
   "execution_count": 72,
   "metadata": {},
   "outputs": [
    {
     "data": {
      "text/html": [
       "<div>\n",
       "<style scoped>\n",
       "    .dataframe tbody tr th:only-of-type {\n",
       "        vertical-align: middle;\n",
       "    }\n",
       "\n",
       "    .dataframe tbody tr th {\n",
       "        vertical-align: top;\n",
       "    }\n",
       "\n",
       "    .dataframe thead th {\n",
       "        text-align: right;\n",
       "    }\n",
       "</style>\n",
       "<table border=\"1\" class=\"dataframe\">\n",
       "  <thead>\n",
       "    <tr style=\"text-align: right;\">\n",
       "      <th></th>\n",
       "      <th>date</th>\n",
       "      <th>state</th>\n",
       "      <th>positive</th>\n",
       "      <th>negative</th>\n",
       "      <th>pending</th>\n",
       "      <th>hospitalizedCurrently</th>\n",
       "      <th>hospitalizedCumulative</th>\n",
       "      <th>inIcuCurrently</th>\n",
       "      <th>inIcuCumulative</th>\n",
       "      <th>onVentilatorCurrently</th>\n",
       "      <th>...</th>\n",
       "      <th>posNeg</th>\n",
       "      <th>deathIncrease</th>\n",
       "      <th>hospitalizedIncrease</th>\n",
       "      <th>hash</th>\n",
       "      <th>commercialScore</th>\n",
       "      <th>negativeRegularScore</th>\n",
       "      <th>negativeScore</th>\n",
       "      <th>positiveScore</th>\n",
       "      <th>score</th>\n",
       "      <th>grade</th>\n",
       "    </tr>\n",
       "  </thead>\n",
       "  <tbody>\n",
       "    <tr>\n",
       "      <th>0</th>\n",
       "      <td>2020-07-10</td>\n",
       "      <td>AK</td>\n",
       "      <td>1323.0</td>\n",
       "      <td>140608.0</td>\n",
       "      <td>NaN</td>\n",
       "      <td>30.0</td>\n",
       "      <td>NaN</td>\n",
       "      <td>NaN</td>\n",
       "      <td>NaN</td>\n",
       "      <td>0.0</td>\n",
       "      <td>...</td>\n",
       "      <td>141931</td>\n",
       "      <td>0</td>\n",
       "      <td>0</td>\n",
       "      <td>7337a3e96732733e1dad90b6631e3e4316bba0ff</td>\n",
       "      <td>0</td>\n",
       "      <td>0</td>\n",
       "      <td>0</td>\n",
       "      <td>0</td>\n",
       "      <td>0</td>\n",
       "      <td>NaN</td>\n",
       "    </tr>\n",
       "    <tr>\n",
       "      <th>1</th>\n",
       "      <td>2020-07-10</td>\n",
       "      <td>AL</td>\n",
       "      <td>50508.0</td>\n",
       "      <td>441708.0</td>\n",
       "      <td>NaN</td>\n",
       "      <td>1183.0</td>\n",
       "      <td>3089.0</td>\n",
       "      <td>NaN</td>\n",
       "      <td>888.0</td>\n",
       "      <td>NaN</td>\n",
       "      <td>...</td>\n",
       "      <td>492216</td>\n",
       "      <td>36</td>\n",
       "      <td>50</td>\n",
       "      <td>9e12c62a712d9f83add02bd471d6608745a2c76a</td>\n",
       "      <td>0</td>\n",
       "      <td>0</td>\n",
       "      <td>0</td>\n",
       "      <td>0</td>\n",
       "      <td>0</td>\n",
       "      <td>NaN</td>\n",
       "    </tr>\n",
       "    <tr>\n",
       "      <th>2</th>\n",
       "      <td>2020-07-10</td>\n",
       "      <td>AR</td>\n",
       "      <td>26803.0</td>\n",
       "      <td>338609.0</td>\n",
       "      <td>NaN</td>\n",
       "      <td>402.0</td>\n",
       "      <td>1743.0</td>\n",
       "      <td>NaN</td>\n",
       "      <td>NaN</td>\n",
       "      <td>84.0</td>\n",
       "      <td>...</td>\n",
       "      <td>365412</td>\n",
       "      <td>4</td>\n",
       "      <td>38</td>\n",
       "      <td>3ebd2a7aee71250e30472d87c0a43986dfcd32aa</td>\n",
       "      <td>0</td>\n",
       "      <td>0</td>\n",
       "      <td>0</td>\n",
       "      <td>0</td>\n",
       "      <td>0</td>\n",
       "      <td>NaN</td>\n",
       "    </tr>\n",
       "  </tbody>\n",
       "</table>\n",
       "<p>3 rows × 41 columns</p>\n",
       "</div>"
      ],
      "text/plain": [
       "        date state  positive  negative  pending  hospitalizedCurrently  \\\n",
       "0 2020-07-10    AK    1323.0  140608.0      NaN                   30.0   \n",
       "1 2020-07-10    AL   50508.0  441708.0      NaN                 1183.0   \n",
       "2 2020-07-10    AR   26803.0  338609.0      NaN                  402.0   \n",
       "\n",
       "   hospitalizedCumulative  inIcuCurrently  inIcuCumulative  \\\n",
       "0                     NaN             NaN              NaN   \n",
       "1                  3089.0             NaN            888.0   \n",
       "2                  1743.0             NaN              NaN   \n",
       "\n",
       "   onVentilatorCurrently  ...  posNeg  deathIncrease hospitalizedIncrease  \\\n",
       "0                    0.0  ...  141931              0                    0   \n",
       "1                    NaN  ...  492216             36                   50   \n",
       "2                   84.0  ...  365412              4                   38   \n",
       "\n",
       "                                       hash commercialScore  \\\n",
       "0  7337a3e96732733e1dad90b6631e3e4316bba0ff               0   \n",
       "1  9e12c62a712d9f83add02bd471d6608745a2c76a               0   \n",
       "2  3ebd2a7aee71250e30472d87c0a43986dfcd32aa               0   \n",
       "\n",
       "  negativeRegularScore  negativeScore  positiveScore score  grade  \n",
       "0                    0              0              0     0    NaN  \n",
       "1                    0              0              0     0    NaN  \n",
       "2                    0              0              0     0    NaN  \n",
       "\n",
       "[3 rows x 41 columns]"
      ]
     },
     "execution_count": 72,
     "metadata": {},
     "output_type": "execute_result"
    }
   ],
   "source": [
    "df_daily.head(3)"
   ]
  },
  {
   "cell_type": "markdown",
   "metadata": {},
   "source": [
    "# \n",
    "## <font color='blue'> 4. Filter rows\n",
    "    There are several ways to select the desired rows:\n",
    "    1. using logic symbol\n",
    "    2. using date range\n",
    "    3. using string matching"
   ]
  },
  {
   "cell_type": "code",
   "execution_count": 74,
   "metadata": {},
   "outputs": [
    {
     "data": {
      "text/html": [
       "<div>\n",
       "<style scoped>\n",
       "    .dataframe tbody tr th:only-of-type {\n",
       "        vertical-align: middle;\n",
       "    }\n",
       "\n",
       "    .dataframe tbody tr th {\n",
       "        vertical-align: top;\n",
       "    }\n",
       "\n",
       "    .dataframe thead th {\n",
       "        text-align: right;\n",
       "    }\n",
       "</style>\n",
       "<table border=\"1\" class=\"dataframe\">\n",
       "  <thead>\n",
       "    <tr style=\"text-align: right;\">\n",
       "      <th></th>\n",
       "      <th>state</th>\n",
       "      <th>date</th>\n",
       "      <th>positive</th>\n",
       "      <th>negative</th>\n",
       "    </tr>\n",
       "  </thead>\n",
       "  <tbody>\n",
       "    <tr>\n",
       "      <th>0</th>\n",
       "      <td>AK</td>\n",
       "      <td>2020-07-10</td>\n",
       "      <td>1323.0</td>\n",
       "      <td>140608.0</td>\n",
       "    </tr>\n",
       "    <tr>\n",
       "      <th>56</th>\n",
       "      <td>AK</td>\n",
       "      <td>2020-07-09</td>\n",
       "      <td>1272.0</td>\n",
       "      <td>134472.0</td>\n",
       "    </tr>\n",
       "    <tr>\n",
       "      <th>112</th>\n",
       "      <td>AK</td>\n",
       "      <td>2020-07-08</td>\n",
       "      <td>1226.0</td>\n",
       "      <td>132175.0</td>\n",
       "    </tr>\n",
       "    <tr>\n",
       "      <th>168</th>\n",
       "      <td>AK</td>\n",
       "      <td>2020-07-07</td>\n",
       "      <td>1184.0</td>\n",
       "      <td>130236.0</td>\n",
       "    </tr>\n",
       "    <tr>\n",
       "      <th>224</th>\n",
       "      <td>AK</td>\n",
       "      <td>2020-07-06</td>\n",
       "      <td>1138.0</td>\n",
       "      <td>122615.0</td>\n",
       "    </tr>\n",
       "  </tbody>\n",
       "</table>\n",
       "</div>"
      ],
      "text/plain": [
       "    state       date  positive  negative\n",
       "0      AK 2020-07-10    1323.0  140608.0\n",
       "56     AK 2020-07-09    1272.0  134472.0\n",
       "112    AK 2020-07-08    1226.0  132175.0\n",
       "168    AK 2020-07-07    1184.0  130236.0\n",
       "224    AK 2020-07-06    1138.0  122615.0"
      ]
     },
     "execution_count": 74,
     "metadata": {},
     "output_type": "execute_result"
    }
   ],
   "source": [
    "df_daily.loc[df_daily['state'] == 'AK',['state','date','positive','negative']].head()"
   ]
  },
  {
   "cell_type": "code",
   "execution_count": 76,
   "metadata": {},
   "outputs": [
    {
     "data": {
      "text/html": [
       "<div>\n",
       "<style scoped>\n",
       "    .dataframe tbody tr th:only-of-type {\n",
       "        vertical-align: middle;\n",
       "    }\n",
       "\n",
       "    .dataframe tbody tr th {\n",
       "        vertical-align: top;\n",
       "    }\n",
       "\n",
       "    .dataframe thead th {\n",
       "        text-align: right;\n",
       "    }\n",
       "</style>\n",
       "<table border=\"1\" class=\"dataframe\">\n",
       "  <thead>\n",
       "    <tr style=\"text-align: right;\">\n",
       "      <th></th>\n",
       "      <th>state</th>\n",
       "      <th>date</th>\n",
       "      <th>positive</th>\n",
       "      <th>negative</th>\n",
       "    </tr>\n",
       "  </thead>\n",
       "  <tbody>\n",
       "    <tr>\n",
       "      <th>0</th>\n",
       "      <td>AK</td>\n",
       "      <td>2020-07-10</td>\n",
       "      <td>1323.0</td>\n",
       "      <td>140608.0</td>\n",
       "    </tr>\n",
       "    <tr>\n",
       "      <th>37</th>\n",
       "      <td>NY</td>\n",
       "      <td>2020-07-10</td>\n",
       "      <td>400299.0</td>\n",
       "      <td>4141275.0</td>\n",
       "    </tr>\n",
       "    <tr>\n",
       "      <th>56</th>\n",
       "      <td>AK</td>\n",
       "      <td>2020-07-09</td>\n",
       "      <td>1272.0</td>\n",
       "      <td>134472.0</td>\n",
       "    </tr>\n",
       "    <tr>\n",
       "      <th>93</th>\n",
       "      <td>NY</td>\n",
       "      <td>2020-07-09</td>\n",
       "      <td>399513.0</td>\n",
       "      <td>4068503.0</td>\n",
       "    </tr>\n",
       "    <tr>\n",
       "      <th>112</th>\n",
       "      <td>AK</td>\n",
       "      <td>2020-07-08</td>\n",
       "      <td>1226.0</td>\n",
       "      <td>132175.0</td>\n",
       "    </tr>\n",
       "  </tbody>\n",
       "</table>\n",
       "</div>"
      ],
      "text/plain": [
       "    state       date  positive   negative\n",
       "0      AK 2020-07-10    1323.0   140608.0\n",
       "37     NY 2020-07-10  400299.0  4141275.0\n",
       "56     AK 2020-07-09    1272.0   134472.0\n",
       "93     NY 2020-07-09  399513.0  4068503.0\n",
       "112    AK 2020-07-08    1226.0   132175.0"
      ]
     },
     "execution_count": 76,
     "metadata": {},
     "output_type": "execute_result"
    }
   ],
   "source": [
    "# to select more than one condition\n",
    "df_daily.loc[df_daily['state'].isin(['AK','NY']),['state','date','positive','negative']].head()"
   ]
  },
  {
   "cell_type": "markdown",
   "metadata": {},
   "source": [
    "### You can also use logic & (and), or (|)"
   ]
  },
  {
   "cell_type": "code",
   "execution_count": 83,
   "metadata": {},
   "outputs": [
    {
     "data": {
      "text/plain": [
       "0         1323.0\n",
       "1        50508.0\n",
       "2        26803.0\n",
       "3            0.0\n",
       "4       116892.0\n",
       "          ...   \n",
       "7124         2.0\n",
       "7125         2.0\n",
       "7126         2.0\n",
       "7127         2.0\n",
       "7128         2.0\n",
       "Name: positive, Length: 7129, dtype: float64"
      ]
     },
     "execution_count": 83,
     "metadata": {},
     "output_type": "execute_result"
    }
   ],
   "source": [
    "df_daily['positive']"
   ]
  },
  {
   "cell_type": "code",
   "execution_count": 87,
   "metadata": {},
   "outputs": [
    {
     "data": {
      "text/html": [
       "<div>\n",
       "<style scoped>\n",
       "    .dataframe tbody tr th:only-of-type {\n",
       "        vertical-align: middle;\n",
       "    }\n",
       "\n",
       "    .dataframe tbody tr th {\n",
       "        vertical-align: top;\n",
       "    }\n",
       "\n",
       "    .dataframe thead th {\n",
       "        text-align: right;\n",
       "    }\n",
       "</style>\n",
       "<table border=\"1\" class=\"dataframe\">\n",
       "  <thead>\n",
       "    <tr style=\"text-align: right;\">\n",
       "      <th></th>\n",
       "      <th>state</th>\n",
       "      <th>date</th>\n",
       "      <th>positive</th>\n",
       "      <th>negative</th>\n",
       "    </tr>\n",
       "  </thead>\n",
       "  <tbody>\n",
       "    <tr>\n",
       "      <th>0</th>\n",
       "      <td>AK</td>\n",
       "      <td>2020-07-10</td>\n",
       "      <td>1323.0</td>\n",
       "      <td>140608.0</td>\n",
       "    </tr>\n",
       "    <tr>\n",
       "      <th>37</th>\n",
       "      <td>NY</td>\n",
       "      <td>2020-07-10</td>\n",
       "      <td>400299.0</td>\n",
       "      <td>4141275.0</td>\n",
       "    </tr>\n",
       "    <tr>\n",
       "      <th>56</th>\n",
       "      <td>AK</td>\n",
       "      <td>2020-07-09</td>\n",
       "      <td>1272.0</td>\n",
       "      <td>134472.0</td>\n",
       "    </tr>\n",
       "    <tr>\n",
       "      <th>93</th>\n",
       "      <td>NY</td>\n",
       "      <td>2020-07-09</td>\n",
       "      <td>399513.0</td>\n",
       "      <td>4068503.0</td>\n",
       "    </tr>\n",
       "    <tr>\n",
       "      <th>112</th>\n",
       "      <td>AK</td>\n",
       "      <td>2020-07-08</td>\n",
       "      <td>1226.0</td>\n",
       "      <td>132175.0</td>\n",
       "    </tr>\n",
       "  </tbody>\n",
       "</table>\n",
       "</div>"
      ],
      "text/plain": [
       "    state       date  positive   negative\n",
       "0      AK 2020-07-10    1323.0   140608.0\n",
       "37     NY 2020-07-10  400299.0  4141275.0\n",
       "56     AK 2020-07-09    1272.0   134472.0\n",
       "93     NY 2020-07-09  399513.0  4068503.0\n",
       "112    AK 2020-07-08    1226.0   132175.0"
      ]
     },
     "execution_count": 87,
     "metadata": {},
     "output_type": "execute_result"
    }
   ],
   "source": [
    "df_daily.loc[(df_daily['state']=='AK')|(df_daily['state']=='NY') ,['state','date','positive','negative']].head()"
   ]
  },
  {
   "cell_type": "markdown",
   "metadata": {},
   "source": [
    "# \n",
    "### <font color='red'> Can you corrent the following cell since it is not showing any output?"
   ]
  },
  {
   "cell_type": "code",
   "execution_count": 88,
   "metadata": {},
   "outputs": [
    {
     "data": {
      "text/html": [
       "<div>\n",
       "<style scoped>\n",
       "    .dataframe tbody tr th:only-of-type {\n",
       "        vertical-align: middle;\n",
       "    }\n",
       "\n",
       "    .dataframe tbody tr th {\n",
       "        vertical-align: top;\n",
       "    }\n",
       "\n",
       "    .dataframe thead th {\n",
       "        text-align: right;\n",
       "    }\n",
       "</style>\n",
       "<table border=\"1\" class=\"dataframe\">\n",
       "  <thead>\n",
       "    <tr style=\"text-align: right;\">\n",
       "      <th></th>\n",
       "      <th>state</th>\n",
       "      <th>date</th>\n",
       "      <th>positive</th>\n",
       "      <th>negative</th>\n",
       "    </tr>\n",
       "  </thead>\n",
       "  <tbody>\n",
       "  </tbody>\n",
       "</table>\n",
       "</div>"
      ],
      "text/plain": [
       "Empty DataFrame\n",
       "Columns: [state, date, positive, negative]\n",
       "Index: []"
      ]
     },
     "execution_count": 88,
     "metadata": {},
     "output_type": "execute_result"
    }
   ],
   "source": [
    "df_daily.loc[((df_daily['state']=='AK')|(df_daily['state']=='NY') ) & df_daily['positive'] > 100.0,['state','date','positive','negative']].head()"
   ]
  },
  {
   "cell_type": "markdown",
   "metadata": {},
   "source": [
    "# \n",
    "### Let filter by date"
   ]
  },
  {
   "cell_type": "code",
   "execution_count": 90,
   "metadata": {},
   "outputs": [
    {
     "data": {
      "text/html": [
       "<div>\n",
       "<style scoped>\n",
       "    .dataframe tbody tr th:only-of-type {\n",
       "        vertical-align: middle;\n",
       "    }\n",
       "\n",
       "    .dataframe tbody tr th {\n",
       "        vertical-align: top;\n",
       "    }\n",
       "\n",
       "    .dataframe thead th {\n",
       "        text-align: right;\n",
       "    }\n",
       "</style>\n",
       "<table border=\"1\" class=\"dataframe\">\n",
       "  <thead>\n",
       "    <tr style=\"text-align: right;\">\n",
       "      <th></th>\n",
       "      <th>state</th>\n",
       "      <th>date</th>\n",
       "      <th>positive</th>\n",
       "      <th>negative</th>\n",
       "    </tr>\n",
       "  </thead>\n",
       "  <tbody>\n",
       "    <tr>\n",
       "      <th>0</th>\n",
       "      <td>AK</td>\n",
       "      <td>2020-07-10</td>\n",
       "      <td>1323.0</td>\n",
       "      <td>140608.0</td>\n",
       "    </tr>\n",
       "    <tr>\n",
       "      <th>1</th>\n",
       "      <td>AL</td>\n",
       "      <td>2020-07-10</td>\n",
       "      <td>50508.0</td>\n",
       "      <td>441708.0</td>\n",
       "    </tr>\n",
       "    <tr>\n",
       "      <th>2</th>\n",
       "      <td>AR</td>\n",
       "      <td>2020-07-10</td>\n",
       "      <td>26803.0</td>\n",
       "      <td>338609.0</td>\n",
       "    </tr>\n",
       "    <tr>\n",
       "      <th>3</th>\n",
       "      <td>AS</td>\n",
       "      <td>2020-07-10</td>\n",
       "      <td>0.0</td>\n",
       "      <td>816.0</td>\n",
       "    </tr>\n",
       "    <tr>\n",
       "      <th>4</th>\n",
       "      <td>AZ</td>\n",
       "      <td>2020-07-10</td>\n",
       "      <td>116892.0</td>\n",
       "      <td>552319.0</td>\n",
       "    </tr>\n",
       "  </tbody>\n",
       "</table>\n",
       "</div>"
      ],
      "text/plain": [
       "  state       date  positive  negative\n",
       "0    AK 2020-07-10    1323.0  140608.0\n",
       "1    AL 2020-07-10   50508.0  441708.0\n",
       "2    AR 2020-07-10   26803.0  338609.0\n",
       "3    AS 2020-07-10       0.0     816.0\n",
       "4    AZ 2020-07-10  116892.0  552319.0"
      ]
     },
     "execution_count": 90,
     "metadata": {},
     "output_type": "execute_result"
    }
   ],
   "source": [
    "df_daily.loc[df_daily['date'] > ('2019-03-01'),['state','date','positive','negative']].head()"
   ]
  },
  {
   "cell_type": "markdown",
   "metadata": {},
   "source": [
    "# \n",
    "### <font color='red'> How can we get only rows between 2019-03-01 and 2019-03-30?"
   ]
  },
  {
   "cell_type": "markdown",
   "metadata": {},
   "source": [
    "### Let get the rows with the state name start a capital letter `A`"
   ]
  },
  {
   "cell_type": "code",
   "execution_count": 92,
   "metadata": {},
   "outputs": [
    {
     "data": {
      "text/html": [
       "<div>\n",
       "<style scoped>\n",
       "    .dataframe tbody tr th:only-of-type {\n",
       "        vertical-align: middle;\n",
       "    }\n",
       "\n",
       "    .dataframe tbody tr th {\n",
       "        vertical-align: top;\n",
       "    }\n",
       "\n",
       "    .dataframe thead th {\n",
       "        text-align: right;\n",
       "    }\n",
       "</style>\n",
       "<table border=\"1\" class=\"dataframe\">\n",
       "  <thead>\n",
       "    <tr style=\"text-align: right;\">\n",
       "      <th></th>\n",
       "      <th>date</th>\n",
       "      <th>state</th>\n",
       "      <th>positive</th>\n",
       "      <th>negative</th>\n",
       "      <th>pending</th>\n",
       "      <th>hospitalizedCurrently</th>\n",
       "      <th>hospitalizedCumulative</th>\n",
       "      <th>inIcuCurrently</th>\n",
       "      <th>inIcuCumulative</th>\n",
       "      <th>onVentilatorCurrently</th>\n",
       "      <th>...</th>\n",
       "      <th>posNeg</th>\n",
       "      <th>deathIncrease</th>\n",
       "      <th>hospitalizedIncrease</th>\n",
       "      <th>hash</th>\n",
       "      <th>commercialScore</th>\n",
       "      <th>negativeRegularScore</th>\n",
       "      <th>negativeScore</th>\n",
       "      <th>positiveScore</th>\n",
       "      <th>score</th>\n",
       "      <th>grade</th>\n",
       "    </tr>\n",
       "  </thead>\n",
       "  <tbody>\n",
       "    <tr>\n",
       "      <th>0</th>\n",
       "      <td>2020-07-10</td>\n",
       "      <td>AK</td>\n",
       "      <td>1323.0</td>\n",
       "      <td>140608.0</td>\n",
       "      <td>NaN</td>\n",
       "      <td>30.0</td>\n",
       "      <td>NaN</td>\n",
       "      <td>NaN</td>\n",
       "      <td>NaN</td>\n",
       "      <td>0.0</td>\n",
       "      <td>...</td>\n",
       "      <td>141931</td>\n",
       "      <td>0</td>\n",
       "      <td>0</td>\n",
       "      <td>7337a3e96732733e1dad90b6631e3e4316bba0ff</td>\n",
       "      <td>0</td>\n",
       "      <td>0</td>\n",
       "      <td>0</td>\n",
       "      <td>0</td>\n",
       "      <td>0</td>\n",
       "      <td>NaN</td>\n",
       "    </tr>\n",
       "    <tr>\n",
       "      <th>1</th>\n",
       "      <td>2020-07-10</td>\n",
       "      <td>AL</td>\n",
       "      <td>50508.0</td>\n",
       "      <td>441708.0</td>\n",
       "      <td>NaN</td>\n",
       "      <td>1183.0</td>\n",
       "      <td>3089.0</td>\n",
       "      <td>NaN</td>\n",
       "      <td>888.0</td>\n",
       "      <td>NaN</td>\n",
       "      <td>...</td>\n",
       "      <td>492216</td>\n",
       "      <td>36</td>\n",
       "      <td>50</td>\n",
       "      <td>9e12c62a712d9f83add02bd471d6608745a2c76a</td>\n",
       "      <td>0</td>\n",
       "      <td>0</td>\n",
       "      <td>0</td>\n",
       "      <td>0</td>\n",
       "      <td>0</td>\n",
       "      <td>NaN</td>\n",
       "    </tr>\n",
       "    <tr>\n",
       "      <th>2</th>\n",
       "      <td>2020-07-10</td>\n",
       "      <td>AR</td>\n",
       "      <td>26803.0</td>\n",
       "      <td>338609.0</td>\n",
       "      <td>NaN</td>\n",
       "      <td>402.0</td>\n",
       "      <td>1743.0</td>\n",
       "      <td>NaN</td>\n",
       "      <td>NaN</td>\n",
       "      <td>84.0</td>\n",
       "      <td>...</td>\n",
       "      <td>365412</td>\n",
       "      <td>4</td>\n",
       "      <td>38</td>\n",
       "      <td>3ebd2a7aee71250e30472d87c0a43986dfcd32aa</td>\n",
       "      <td>0</td>\n",
       "      <td>0</td>\n",
       "      <td>0</td>\n",
       "      <td>0</td>\n",
       "      <td>0</td>\n",
       "      <td>NaN</td>\n",
       "    </tr>\n",
       "    <tr>\n",
       "      <th>3</th>\n",
       "      <td>2020-07-10</td>\n",
       "      <td>AS</td>\n",
       "      <td>0.0</td>\n",
       "      <td>816.0</td>\n",
       "      <td>NaN</td>\n",
       "      <td>NaN</td>\n",
       "      <td>NaN</td>\n",
       "      <td>NaN</td>\n",
       "      <td>NaN</td>\n",
       "      <td>NaN</td>\n",
       "      <td>...</td>\n",
       "      <td>816</td>\n",
       "      <td>0</td>\n",
       "      <td>0</td>\n",
       "      <td>004c2c497969b52749e6bc8d88e68f7e39c1818b</td>\n",
       "      <td>0</td>\n",
       "      <td>0</td>\n",
       "      <td>0</td>\n",
       "      <td>0</td>\n",
       "      <td>0</td>\n",
       "      <td>NaN</td>\n",
       "    </tr>\n",
       "    <tr>\n",
       "      <th>4</th>\n",
       "      <td>2020-07-10</td>\n",
       "      <td>AZ</td>\n",
       "      <td>116892.0</td>\n",
       "      <td>552319.0</td>\n",
       "      <td>NaN</td>\n",
       "      <td>3432.0</td>\n",
       "      <td>5659.0</td>\n",
       "      <td>876.0</td>\n",
       "      <td>NaN</td>\n",
       "      <td>615.0</td>\n",
       "      <td>...</td>\n",
       "      <td>669211</td>\n",
       "      <td>44</td>\n",
       "      <td>133</td>\n",
       "      <td>2c23eaf50b677706200aa0be2e84a000193f759f</td>\n",
       "      <td>0</td>\n",
       "      <td>0</td>\n",
       "      <td>0</td>\n",
       "      <td>0</td>\n",
       "      <td>0</td>\n",
       "      <td>NaN</td>\n",
       "    </tr>\n",
       "  </tbody>\n",
       "</table>\n",
       "<p>5 rows × 41 columns</p>\n",
       "</div>"
      ],
      "text/plain": [
       "        date state  positive  negative  pending  hospitalizedCurrently  \\\n",
       "0 2020-07-10    AK    1323.0  140608.0      NaN                   30.0   \n",
       "1 2020-07-10    AL   50508.0  441708.0      NaN                 1183.0   \n",
       "2 2020-07-10    AR   26803.0  338609.0      NaN                  402.0   \n",
       "3 2020-07-10    AS       0.0     816.0      NaN                    NaN   \n",
       "4 2020-07-10    AZ  116892.0  552319.0      NaN                 3432.0   \n",
       "\n",
       "   hospitalizedCumulative  inIcuCurrently  inIcuCumulative  \\\n",
       "0                     NaN             NaN              NaN   \n",
       "1                  3089.0             NaN            888.0   \n",
       "2                  1743.0             NaN              NaN   \n",
       "3                     NaN             NaN              NaN   \n",
       "4                  5659.0           876.0              NaN   \n",
       "\n",
       "   onVentilatorCurrently  ...  posNeg  deathIncrease hospitalizedIncrease  \\\n",
       "0                    0.0  ...  141931              0                    0   \n",
       "1                    NaN  ...  492216             36                   50   \n",
       "2                   84.0  ...  365412              4                   38   \n",
       "3                    NaN  ...     816              0                    0   \n",
       "4                  615.0  ...  669211             44                  133   \n",
       "\n",
       "                                       hash commercialScore  \\\n",
       "0  7337a3e96732733e1dad90b6631e3e4316bba0ff               0   \n",
       "1  9e12c62a712d9f83add02bd471d6608745a2c76a               0   \n",
       "2  3ebd2a7aee71250e30472d87c0a43986dfcd32aa               0   \n",
       "3  004c2c497969b52749e6bc8d88e68f7e39c1818b               0   \n",
       "4  2c23eaf50b677706200aa0be2e84a000193f759f               0   \n",
       "\n",
       "  negativeRegularScore  negativeScore  positiveScore score  grade  \n",
       "0                    0              0              0     0    NaN  \n",
       "1                    0              0              0     0    NaN  \n",
       "2                    0              0              0     0    NaN  \n",
       "3                    0              0              0     0    NaN  \n",
       "4                    0              0              0     0    NaN  \n",
       "\n",
       "[5 rows x 41 columns]"
      ]
     },
     "execution_count": 92,
     "metadata": {},
     "output_type": "execute_result"
    }
   ],
   "source": [
    "df_daily.loc[df_daily['state'].str.startswith('A')].head()"
   ]
  },
  {
   "cell_type": "markdown",
   "metadata": {},
   "source": [
    "# \n",
    "### <font color='red'> How can we get the rows with the state name ending with a capatical letter `R`? (Hint: endswith)\n",
    "### <font color='red'> How can we get the rows with the state name containing with a capatical letter `A`? (Hint: contains)"
   ]
  },
  {
   "cell_type": "code",
   "execution_count": null,
   "metadata": {},
   "outputs": [],
   "source": []
  }
 ],
 "metadata": {
  "kernelspec": {
   "display_name": "Python 3",
   "language": "python",
   "name": "python3"
  },
  "language_info": {
   "codemirror_mode": {
    "name": "ipython",
    "version": 3
   },
   "file_extension": ".py",
   "mimetype": "text/x-python",
   "name": "python",
   "nbconvert_exporter": "python",
   "pygments_lexer": "ipython3",
   "version": "3.7.6"
  },
  "toc-autonumbering": false,
  "toc-showcode": false,
  "toc-showmarkdowntxt": true,
  "toc-showtags": false
 },
 "nbformat": 4,
 "nbformat_minor": 4
}
